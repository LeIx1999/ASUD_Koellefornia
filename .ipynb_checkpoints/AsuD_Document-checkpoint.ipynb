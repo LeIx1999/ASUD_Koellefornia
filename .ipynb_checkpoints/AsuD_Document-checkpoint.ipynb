{
 "cells": [
  {
   "cell_type": "markdown",
   "id": "c47e9f24",
   "metadata": {},
   "source": [
    "<div style=\"width:image width px; font-size:75%; text-align:right;\">\n",
    "    <img src=\"img\\fom_logo.png\" width=\"width\" height=\"height\" style=\"padding-bottom:0.2em;\" />\n",
    "    <figcaption>Logo von der FOM Hochschule</figcaption>\n",
    "</div>"
   ]
  },
  {
   "cell_type": "markdown",
   "id": "7657e89b",
   "metadata": {},
   "source": [
    "### FOM Hochschule für Ökonomie und Management, Standort Köln\n",
    "Berufsbegleitender Studiengang zum Master of Science Big Data & Business Analytics\n",
    "<p>3. Semester</p>"
   ]
  },
  {
   "cell_type": "markdown",
   "id": "9a229683",
   "metadata": {},
   "source": [
    "#### Projektarbeit im Modul Analyse semi- und unstrukturierter Daten:"
   ]
  },
  {
   "cell_type": "markdown",
   "id": "7f0175e2",
   "metadata": {},
   "source": [
    "# Spam Klassifikation"
   ]
  },
  {
   "cell_type": "markdown",
   "id": "3609c5cc",
   "metadata": {},
   "source": [
    "<div style=\"width:image width; font-size:75%; text-align:right;\">\n",
    "    <img src=\"img\\spam.jpg\" width=50% height=\"height\" style=\"padding-bottom:0.2em;\" />\n",
    "    <figcaption>https://toahtech.com/spam-messages-how-to-block-robotexts-spam-messages/</figcaption>\n",
    "</div>"
   ]
  },
  {
   "cell_type": "markdown",
   "id": "28952fe2",
   "metadata": {},
   "source": [
    "<table>\n",
    "  <tr>\n",
    "      <td>Betreuer: </td>\n",
    "      <td>Dr. Oliver Schmidts</td>\n",
    "  </tr>\n",
    "  <tr>\n",
    "      <td>Autoren:</td>\n",
    "      <td>Philipp Boden (Matrikelnummer: )</td>\n",
    "      <td>Jannis Niesen ()</td>\n",
    "      <td>Stefan Settertobulte()</td>\n",
    "      <td>Jonas Oetzmann (595527)</td>\n",
    "  </tr>\n",
    "  <tr>\n",
    "      <td>Abgabedatum: </td>\n",
    "      <td>XY</td>\n",
    "  </tr>\n",
    "</table>"
   ]
  },
  {
   "cell_type": "markdown",
   "id": "f6c910ef",
   "metadata": {},
   "source": [
    "## Inhaltsverzeichnis\n",
    "\n",
    "* [I Abbildungsverzeichnis](#Abbildungen)\n",
    "* [II Abkürzungsverzeichnis](#Abkürzungen)\n",
    "* [1. Einleitung](#Einleitung)\n",
    "* [2. Begriffserläuterng](#Begriffserläuterung)\n",
    "* [3 Crisp-DM](#Crisp_DM)\n",
    "    * [3.1 Business Understandig](#Business_Understandig)\n",
    "    * [3.2 Data Understanding](#Data_Understandig)\n",
    "    * [3.3 Data Preparation](#Data_Preparation)\n",
    "    * [3.4 Modelling](#Modelling)\n",
    "    * [3.5 Evaluation](#Evaluation)\n",
    "    * [3.6 Deployment](#Deployment)\n",
    "* [Literaturverzeichnis](#Literaturverzeichnis)\n",
    "* [Ehrenwörtliche Erklärung](#Erklärung)\n"
   ]
  },
  {
   "cell_type": "markdown",
   "id": "9475588c",
   "metadata": {},
   "source": [
    "## I Abbildungsverzeichnis<a class=\"anchor\" id=\"Abbildungen\"></a>\n",
    "\n",
    "XX"
   ]
  },
  {
   "cell_type": "markdown",
   "id": "b42e9eed",
   "metadata": {},
   "source": [
    "## II Abkürzungsverzeichnis<a class=\"anchor\" id=\"Abkürzungen\"></a>\n",
    "\n",
    "XX"
   ]
  },
  {
   "cell_type": "markdown",
   "id": "5f99b9df",
   "metadata": {},
   "source": [
    "# 1. Einleitung<a class=\"anchor\" id=\"Einleitung\"></a>"
   ]
  },
  {
   "cell_type": "markdown",
   "id": "9ff4f043",
   "metadata": {},
   "source": [
    "https://de.statista.com/statistik/daten/studie/872986/umfrage/anteil-der-spam-mails-am-gesamten-e-mail-verkehr-weltweit/"
   ]
  },
  {
   "cell_type": "markdown",
   "id": "db4bd1f2",
   "metadata": {},
   "source": [
    "# 2. Begriffserläuterung<a class=\"anchor\" id=\"Begriffserläuterung\"></a>"
   ]
  },
  {
   "cell_type": "markdown",
   "id": "ea41c295",
   "metadata": {},
   "source": [
    "<h3>Spam</h3>\n",
    "<p>Als Spam bezeichnet man jegliche unerwünschte Nachricht, die häufig in Form von Werbung im eigenen Postfach landet. Besonders häufig tritt das Problem im Kontext von E-Mails auf. Neben ungefährlichen Werbenachrichten, fallen auch Phishing Nachrichten unter den Überbegriff des Spams. Diese besondere Kategorie massenhaft verschickter Nachrichten ist ein beliebtes Mittel, um Internet-Nutzer in die Falle zu locken, ihren Computer mit Viren oder Trojanern zu kapern und in der Folge Daten zu stehlen, die Identität des Nutzers zu übernehmen oder Ressourcen des Computers zu beanspruchen. Ein guter Spam-Filter kann hierbei helfen, jegliche Arten von Spam bereits beim Eingang der Nachricht zu erkennen und in einen spezifischen Ordner zu verschieben, wodurch das Risiko sinkt, Opfer einer Datenfalle zu werden.</p>\n",
    "\n",
    "<h3>Social Media</h3>\n",
    "<p>XXXX</p>"
   ]
  },
  {
   "cell_type": "markdown",
   "id": "49b18606",
   "metadata": {},
   "source": [
    "# 3. Crisp-DM Modell<a class=\"anchor\" id=\"Crisp_DM\"></a>"
   ]
  },
  {
   "cell_type": "markdown",
   "id": "37970880",
   "metadata": {},
   "source": [
    "## 3.1 Business Understanding <a class=\"anchor\" id=\"Business_Understandig\"></a>"
   ]
  },
  {
   "cell_type": "markdown",
   "id": "fa943fde",
   "metadata": {},
   "source": [
    "<h3>Email</h3>\n",
    "<p>Besonders in Unternehmen können Phishing-Nachrichten großen Schaden anrichten, da nicht nur die Daten des Nutzers, welcher die Nachricht geöffnet hat, gestohlen werden können, sondern auch Unternehmensdaten und Kundendaten für den Versender der Phishing-Nachricht einsehbar sind. Unternehmen sind dafür verantwortlich, für die Sicherheit der Kundendaten Sorge zu tragen, weshalb neben dem Verlust von Unternehmensinternen und ggf. auch geheimen Daten, vor allem die juristische Verfolgung des Kundendatenverlustes sowie der damit einhergehende Vertrauensverlust in das Unternehmen eine schwere Last darstellt.\n",
    "\n",
    "Um diesem Problem Abhilfe zu schaffen, ist es das Ziel des Projektes, auf Basis von Textnachrichten einen Spam-Filter zu entwickeln, welcher Texte in die Kategorien „Spam“ und „kein Spam“ einteilt und so das automatische Verschieben von unerwünschten oder gefährlichen Nachrichten in einen gesonderten Ordner erlaubt. Hierfür werden mit Hilfe eines Machine Learning Modells bereits klassifizierte Textnachrichten analysiert und Merkmale von Spam-Nachrichten herausgearbeitet. Das Modell wird auf englischer Sprache trainiert und kann somit auch nur für die Klassifizierung englischsprachiger Nachrichten eingesetzt werden.</p>\n",
    "\n",
    "<h3>Social Media</h3>\n",
    "<p>Die in der Einleitung erläuterten Bots sind für Unternehmen oder Influencer Fluch und Segen zugleich. Einerseits werden sie gezielt eingesetzt, um mit einem Profil eine größere Reichweite zu erzielen, indem Follower, Likes und Kommentare quasi gekauft werden. Die höhere Zahl dieser Parameter führt dazu, dass mehr Leute auf das Profil stoßen und somit auch mehr „echte“ Nutzer als Follower gewonnen werden können. Bemüht man sich jedoch, mit seinem Profil und seinen Posts einen seriösen Eindruck zu vermitteln oder ernste Themen anzusprechen, wie dies z. B. auf dem Instagram-Profil von Nachrichtensendern der Fall ist, können die Bots regelrecht zur Plage werden, da bspw. plötzlich unter Posts jede Menge Kommentare von Bot-Profilen sind, die Sex anbieten.\n",
    "\n",
    "Um diesem Problem Abhilfe zu schaffen, ist es das Ziel des Projektes, auf Basis von Textnachrichten einen Spam-Filter zu entwickeln, welcher Texte in die Kategorien „Spam“ und „kein Spam“ einteilt und so das automatische unmittelbare Löschen von unerwünschten oder gefährlichen Nachrichten in erlaubt. Hierfür werden mit Hilfe eines Machine Learning Modells bereits klassifizierte Textnachrichten analysiert und Merkmale von Spam-Nachrichten herausgearbeitet. Das Modell wird auf englischer Sprache trainiert und kann somit auch nur für die Klassifizierung englischsprachiger Nachrichten eingesetzt werden.</p>"
   ]
  },
  {
   "cell_type": "markdown",
   "id": "40e4590a",
   "metadata": {},
   "source": [
    "## 3.2 Data Understanding<a class=\"anchor\" id=\"Data_Understandig\"></a>"
   ]
  },
  {
   "cell_type": "markdown",
   "id": "5542c704",
   "metadata": {},
   "source": [
    "<p>Der für das Projekt genutzte Datensatz stammt von der Online-Community-Plattform Kaggle. Er enthält 5.157 Beispielnachrichten, von denen 87 Prozent der Kategorie „kein Spam“ und 13 Prozent der Kategorie „Spam“ zugeordnet sind. Ergänzend werden noch 50 eigene Nachrichten zur Überprüfung der Vorhersageleistung des Machine Learning Modells genutzt. Diese bestehen zu 50 Prozent aus Spam-Nachrichten. Der Datensatz besteht aus den zwei Variablen „Category” und „Message”. „Category” ist die kategorische binäre abhängige Variable mit den Ausprägungen „kein Spam“ und „Spam“. „Message” ist eine kategorische unabhängige Variable, in der der Text der Spam Nachricht gespeichert ist. Beide Variablen sind für jeden Datensatz befüllt. Es gibt folglich keine Null-Werte.\n",
    "\n",
    "Bei der Betrachtung des Kaggle-Datensatzes fällt auf, dass die Nachrichten sehr umgangssprachlich formuliert sind. So wird das Wort „you“ zumeist durch „u“ oder „are“ durch „r“ abgekürzt. Hierdurch wird eine Betrachtung von Rechtschreibfehlern als Anzeichen einer Spam-Nachricht nahezu unmöglich. Ebenfalls fehlen in den Nachrichten sowohl Anreden als auch Absender.</p>"
   ]
  },
  {
   "cell_type": "markdown",
   "id": "d19a0144",
   "metadata": {},
   "source": [
    "## 3.3 Data Preparation<a class=\"anchor\" id=\"Data_Preparation\"></a>"
   ]
  },
  {
   "cell_type": "markdown",
   "id": "f0c98572",
   "metadata": {},
   "source": [
    "## 3.4 Modelling<a class=\"anchor\" id=\"Modelling\"></a>"
   ]
  },
  {
   "cell_type": "markdown",
   "id": "9a2b2d5e",
   "metadata": {},
   "source": [
    "## 3.5 Evaluation<a class=\"anchor\" id=\"Evaluation\"></a>"
   ]
  },
  {
   "cell_type": "markdown",
   "id": "53b6467b",
   "metadata": {},
   "source": [
    "## 3.6 Deployment<a class=\"anchor\" id=\"Deployment\"></a>"
   ]
  },
  {
   "cell_type": "markdown",
   "id": "ff01eda2",
   "metadata": {},
   "source": [
    "# Literaturverzeichnis<a class=\"anchor\" id=\"Literaturverzeichnis\"></a>"
   ]
  },
  {
   "cell_type": "markdown",
   "id": "37f4dc8b",
   "metadata": {},
   "source": [
    "# Ehrenwörtliche Erklärung<a class=\"anchor\" id=\"Erklärung\"></a>"
   ]
  },
  {
   "cell_type": "markdown",
   "id": "5459c8fd",
   "metadata": {},
   "source": [
    "Hiermit versichern wir, dass die vorliegende Arbeit von uns selbstständig und ohne\n",
    "unerlaubte Hilfe angefertigt worden ist, insbesondere dass wir alle Stellen, die wörtlich\n",
    "oder annähernd wörtlich aus Veröffentlichungen entnommen sind, durch Zitate als\n",
    "solche gekennzeichnet haben. Wir versichern auch, dass die von uns eingereichte\n",
    "schriftliche Version mit der digitalen Version übereinstimmt. Weiterhin erklären wir,\n",
    "dass die Arbeit in gleicher oder ähnlicher Form noch keiner\n",
    "Prüfungsbehörde/Prüfungsstelle vorgelegen hat. Wir erklären uns damit nicht\n",
    "einverstanden, dass die Arbeit der Öffentlichkeit zugänglich gemacht wird. Wir erklären\n",
    "uns damit einverstanden, dass die Digitalversion dieser Arbeit zwecks Plagiatsprüfung\n",
    "auf die Server externer Anbieter hochgeladen werden darf. Die Plagiatsprüfung stellt\n",
    "keine Zurverfügungstellung für die Öffentlichkeit dar."
   ]
  },
  {
   "cell_type": "code",
   "execution_count": null,
   "id": "1132da7c",
   "metadata": {},
   "outputs": [],
   "source": []
  }
 ],
 "metadata": {
  "kernelspec": {
   "display_name": "Python 3 (ipykernel)",
   "language": "python",
   "name": "python3"
  },
  "language_info": {
   "codemirror_mode": {
    "name": "ipython",
    "version": 3
   },
   "file_extension": ".py",
   "mimetype": "text/x-python",
   "name": "python",
   "nbconvert_exporter": "python",
   "pygments_lexer": "ipython3",
   "version": "3.9.7"
  }
 },
 "nbformat": 4,
 "nbformat_minor": 5
}
